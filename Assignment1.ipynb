{
  "nbformat": 4,
  "nbformat_minor": 0,
  "metadata": {
    "colab": {
      "name": "Untitled3.ipynb",
      "version": "0.3.2",
      "provenance": [],
      "collapsed_sections": [],
      "include_colab_link": true
    }
  },
  "cells": [
    {
      "cell_type": "markdown",
      "metadata": {
        "id": "view-in-github",
        "colab_type": "text"
      },
      "source": [
        "[View in Colaboratory](https://colab.research.google.com/github/niteshguptabrs/Machine-learning/blob/master/Assignment1.ipynb)"
      ]
    },
    {
      "metadata": {
        "id": "UVUJcbHO104D",
        "colab_type": "code",
        "colab": {
          "base_uri": "https://localhost:8080/",
          "height": 85
        },
        "outputId": "4cd971a9-41ba-42c9-dff3-205260d566c2"
      },
      "cell_type": "code",
      "source": [
        "import pandas as pd\n",
        "import numpy as np\n",
        "d={'Name':['Nitesh','Raj','Rahul'],'Age':[20,19,21],'Email':['nrr@gmail.com','raj@gmail.com','Rah@gmail.com'],'Ph no':[999111991,3334409444,98433333]}\n",
        "df=pd.DataFrame(d)\n",
        "print(df)"
      ],
      "execution_count": 2,
      "outputs": [
        {
          "output_type": "stream",
          "text": [
            "   Age          Email    Name       Ph no\n",
            "0   20  nrr@gmail.com  Nitesh   999111991\n",
            "1   19  raj@gmail.com     Raj  3334409444\n",
            "2   21  Rah@gmail.com   Rahul    98433333\n"
          ],
          "name": "stdout"
        }
      ]
    },
    {
      "metadata": {
        "id": "2p586iTo54en",
        "colab_type": "code",
        "colab": {}
      },
      "cell_type": "code",
      "source": [
        ""
      ],
      "execution_count": 0,
      "outputs": []
    }
  ]
}